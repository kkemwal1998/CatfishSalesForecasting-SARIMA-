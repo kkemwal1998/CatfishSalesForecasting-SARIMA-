{
 "cells": [
  {
   "cell_type": "markdown",
   "id": "98c027ca",
   "metadata": {},
   "source": [
    "# Catfish Sales Forecasting Model:"
   ]
  },
  {
   "cell_type": "markdown",
   "id": "6254c9ae",
   "metadata": {},
   "source": [
    "Project Objective: Developing a predecitve model for forecasting the sales of catfish based on the previous year seasonal patterns.\n",
    "    \n",
    "Algorithms applied: SARIMA (Seasonal Autoreggressive Integrated Moving Average) \n",
    "\n"
   ]
  },
  {
   "cell_type": "code",
   "execution_count": 47,
   "id": "77518b95",
   "metadata": {},
   "outputs": [],
   "source": [
    "# Loading libraries:\n",
    "import numpy as np\n",
    "import pandas as pd\n"
   ]
  },
  {
   "cell_type": "code",
   "execution_count": 48,
   "id": "26572ea4",
   "metadata": {},
   "outputs": [],
   "source": [
    "import matplotlib.pyplot as plt\n",
    "from statsmodels.tsa.stattools import acf,pacf\n",
    "from statsmodels.tsa.statespace.sarimax import SARIMAX\n",
    "from datetime import datetime\n",
    "from datetime import timedelta\n",
    "from time import time"
   ]
  },
  {
   "cell_type": "code",
   "execution_count": 49,
   "id": "b85f4dd4",
   "metadata": {},
   "outputs": [],
   "source": [
    "import seaborn as sns"
   ]
  },
  {
   "cell_type": "code",
   "execution_count": 50,
   "id": "243b5fc5",
   "metadata": {},
   "outputs": [],
   "source": [
    "sns.set_style('whitegrid')"
   ]
  },
  {
   "cell_type": "code",
   "execution_count": 51,
   "id": "d5318187",
   "metadata": {},
   "outputs": [],
   "source": [
    "# Getting the sales Data\n",
    "def parser(s):\n",
    "    return datetime.strptime(s, '%Y-%m-%d')"
   ]
  },
  {
   "cell_type": "code",
   "execution_count": 52,
   "id": "ef2df9fe",
   "metadata": {},
   "outputs": [
    {
     "data": {
      "text/html": [
       "<div>\n",
       "<style scoped>\n",
       "    .dataframe tbody tr th:only-of-type {\n",
       "        vertical-align: middle;\n",
       "    }\n",
       "\n",
       "    .dataframe tbody tr th {\n",
       "        vertical-align: top;\n",
       "    }\n",
       "\n",
       "    .dataframe thead th {\n",
       "        text-align: right;\n",
       "    }\n",
       "</style>\n",
       "<table border=\"1\" class=\"dataframe\">\n",
       "  <thead>\n",
       "    <tr style=\"text-align: right;\">\n",
       "      <th></th>\n",
       "      <th>Total</th>\n",
       "    </tr>\n",
       "    <tr>\n",
       "      <th>Date</th>\n",
       "      <th></th>\n",
       "    </tr>\n",
       "  </thead>\n",
       "  <tbody>\n",
       "    <tr>\n",
       "      <th>1986-01-01</th>\n",
       "      <td>9034</td>\n",
       "    </tr>\n",
       "    <tr>\n",
       "      <th>1986-02-01</th>\n",
       "      <td>9596</td>\n",
       "    </tr>\n",
       "    <tr>\n",
       "      <th>1986-03-01</th>\n",
       "      <td>10558</td>\n",
       "    </tr>\n",
       "    <tr>\n",
       "      <th>1986-04-01</th>\n",
       "      <td>9002</td>\n",
       "    </tr>\n",
       "    <tr>\n",
       "      <th>1986-05-01</th>\n",
       "      <td>9239</td>\n",
       "    </tr>\n",
       "    <tr>\n",
       "      <th>...</th>\n",
       "      <td>...</td>\n",
       "    </tr>\n",
       "    <tr>\n",
       "      <th>2012-08-01</th>\n",
       "      <td>14442</td>\n",
       "    </tr>\n",
       "    <tr>\n",
       "      <th>2012-09-01</th>\n",
       "      <td>13422</td>\n",
       "    </tr>\n",
       "    <tr>\n",
       "      <th>2012-10-01</th>\n",
       "      <td>13795</td>\n",
       "    </tr>\n",
       "    <tr>\n",
       "      <th>2012-11-01</th>\n",
       "      <td>13352</td>\n",
       "    </tr>\n",
       "    <tr>\n",
       "      <th>2012-12-01</th>\n",
       "      <td>12716</td>\n",
       "    </tr>\n",
       "  </tbody>\n",
       "</table>\n",
       "<p>324 rows × 1 columns</p>\n",
       "</div>"
      ],
      "text/plain": [
       "            Total\n",
       "Date             \n",
       "1986-01-01   9034\n",
       "1986-02-01   9596\n",
       "1986-03-01  10558\n",
       "1986-04-01   9002\n",
       "1986-05-01   9239\n",
       "...           ...\n",
       "2012-08-01  14442\n",
       "2012-09-01  13422\n",
       "2012-10-01  13795\n",
       "2012-11-01  13352\n",
       "2012-12-01  12716\n",
       "\n",
       "[324 rows x 1 columns]"
      ]
     },
     "execution_count": 52,
     "metadata": {},
     "output_type": "execute_result"
    }
   ],
   "source": [
    "# Reading the dateset\n",
    "Catfish_Sales = pd.read_csv('catfish.csv',parse_dates=[0],index_col=0, date_parser=parser)\n",
    "Catfish_Sales"
   ]
  },
  {
   "cell_type": "code",
   "execution_count": 53,
   "id": "6a2d37c6",
   "metadata": {},
   "outputs": [
    {
     "name": "stdout",
     "output_type": "stream",
     "text": [
      "            Total\n",
      "Date             \n",
      "1986-01-01   9034\n",
      "1986-02-01   9596\n",
      "1986-03-01  10558\n",
      "1986-04-01   9002\n",
      "1986-05-01   9239\n",
      "...           ...\n",
      "2012-08-01  14442\n",
      "2012-09-01  13422\n",
      "2012-10-01  13795\n",
      "2012-11-01  13352\n",
      "2012-12-01  12716\n",
      "\n",
      "[324 rows x 1 columns]\n"
     ]
    }
   ],
   "source": [
    "# Infering the frequency od dATA\n",
    "Catfish_Sales = Catfish_Sales.asfreq(pd.infer_freq(Catfish_Sales.index))\n",
    "print(Catfish_Sales)"
   ]
  },
  {
   "cell_type": "code",
   "execution_count": 54,
   "id": "ef524ef6",
   "metadata": {},
   "outputs": [
    {
     "data": {
      "text/html": [
       "<div>\n",
       "<style scoped>\n",
       "    .dataframe tbody tr th:only-of-type {\n",
       "        vertical-align: middle;\n",
       "    }\n",
       "\n",
       "    .dataframe tbody tr th {\n",
       "        vertical-align: top;\n",
       "    }\n",
       "\n",
       "    .dataframe thead th {\n",
       "        text-align: right;\n",
       "    }\n",
       "</style>\n",
       "<table border=\"1\" class=\"dataframe\">\n",
       "  <thead>\n",
       "    <tr style=\"text-align: right;\">\n",
       "      <th></th>\n",
       "      <th>Total</th>\n",
       "    </tr>\n",
       "    <tr>\n",
       "      <th>Date</th>\n",
       "      <th></th>\n",
       "    </tr>\n",
       "  </thead>\n",
       "  <tbody>\n",
       "    <tr>\n",
       "      <th>1996-01-01</th>\n",
       "      <td>20322</td>\n",
       "    </tr>\n",
       "    <tr>\n",
       "      <th>1996-02-01</th>\n",
       "      <td>20613</td>\n",
       "    </tr>\n",
       "    <tr>\n",
       "      <th>1996-03-01</th>\n",
       "      <td>22704</td>\n",
       "    </tr>\n",
       "    <tr>\n",
       "      <th>1996-04-01</th>\n",
       "      <td>20276</td>\n",
       "    </tr>\n",
       "    <tr>\n",
       "      <th>1996-05-01</th>\n",
       "      <td>20669</td>\n",
       "    </tr>\n",
       "    <tr>\n",
       "      <th>1996-06-01</th>\n",
       "      <td>18074</td>\n",
       "    </tr>\n",
       "    <tr>\n",
       "      <th>1996-07-01</th>\n",
       "      <td>18719</td>\n",
       "    </tr>\n",
       "    <tr>\n",
       "      <th>1996-08-01</th>\n",
       "      <td>20217</td>\n",
       "    </tr>\n",
       "    <tr>\n",
       "      <th>1996-09-01</th>\n",
       "      <td>19642</td>\n",
       "    </tr>\n",
       "    <tr>\n",
       "      <th>1996-10-01</th>\n",
       "      <td>20842</td>\n",
       "    </tr>\n",
       "    <tr>\n",
       "      <th>1996-11-01</th>\n",
       "      <td>18204</td>\n",
       "    </tr>\n",
       "    <tr>\n",
       "      <th>1996-12-01</th>\n",
       "      <td>16898</td>\n",
       "    </tr>\n",
       "    <tr>\n",
       "      <th>1997-01-01</th>\n",
       "      <td>20746</td>\n",
       "    </tr>\n",
       "    <tr>\n",
       "      <th>1997-02-01</th>\n",
       "      <td>23058</td>\n",
       "    </tr>\n",
       "    <tr>\n",
       "      <th>1997-03-01</th>\n",
       "      <td>24624</td>\n",
       "    </tr>\n",
       "    <tr>\n",
       "      <th>1997-04-01</th>\n",
       "      <td>22154</td>\n",
       "    </tr>\n",
       "    <tr>\n",
       "      <th>1997-05-01</th>\n",
       "      <td>22444</td>\n",
       "    </tr>\n",
       "    <tr>\n",
       "      <th>1997-06-01</th>\n",
       "      <td>21471</td>\n",
       "    </tr>\n",
       "    <tr>\n",
       "      <th>1997-07-01</th>\n",
       "      <td>21866</td>\n",
       "    </tr>\n",
       "    <tr>\n",
       "      <th>1997-08-01</th>\n",
       "      <td>22548</td>\n",
       "    </tr>\n",
       "    <tr>\n",
       "      <th>1997-09-01</th>\n",
       "      <td>21518</td>\n",
       "    </tr>\n",
       "    <tr>\n",
       "      <th>1997-10-01</th>\n",
       "      <td>23408</td>\n",
       "    </tr>\n",
       "    <tr>\n",
       "      <th>1997-11-01</th>\n",
       "      <td>19645</td>\n",
       "    </tr>\n",
       "    <tr>\n",
       "      <th>1997-12-01</th>\n",
       "      <td>18278</td>\n",
       "    </tr>\n",
       "    <tr>\n",
       "      <th>1998-01-01</th>\n",
       "      <td>23576</td>\n",
       "    </tr>\n",
       "    <tr>\n",
       "      <th>1998-02-01</th>\n",
       "      <td>26650</td>\n",
       "    </tr>\n",
       "    <tr>\n",
       "      <th>1998-03-01</th>\n",
       "      <td>26207</td>\n",
       "    </tr>\n",
       "    <tr>\n",
       "      <th>1998-04-01</th>\n",
       "      <td>23195</td>\n",
       "    </tr>\n",
       "    <tr>\n",
       "      <th>1998-05-01</th>\n",
       "      <td>22960</td>\n",
       "    </tr>\n",
       "    <tr>\n",
       "      <th>1998-06-01</th>\n",
       "      <td>23002</td>\n",
       "    </tr>\n",
       "    <tr>\n",
       "      <th>1998-07-01</th>\n",
       "      <td>22973</td>\n",
       "    </tr>\n",
       "    <tr>\n",
       "      <th>1998-08-01</th>\n",
       "      <td>24089</td>\n",
       "    </tr>\n",
       "    <tr>\n",
       "      <th>1998-09-01</th>\n",
       "      <td>22805</td>\n",
       "    </tr>\n",
       "    <tr>\n",
       "      <th>1998-10-01</th>\n",
       "      <td>23241</td>\n",
       "    </tr>\n",
       "    <tr>\n",
       "      <th>1998-11-01</th>\n",
       "      <td>21581</td>\n",
       "    </tr>\n",
       "    <tr>\n",
       "      <th>1998-12-01</th>\n",
       "      <td>21119</td>\n",
       "    </tr>\n",
       "    <tr>\n",
       "      <th>1999-01-01</th>\n",
       "      <td>23107</td>\n",
       "    </tr>\n",
       "    <tr>\n",
       "      <th>1999-02-01</th>\n",
       "      <td>25780</td>\n",
       "    </tr>\n",
       "    <tr>\n",
       "      <th>1999-03-01</th>\n",
       "      <td>28544</td>\n",
       "    </tr>\n",
       "    <tr>\n",
       "      <th>1999-04-01</th>\n",
       "      <td>23488</td>\n",
       "    </tr>\n",
       "    <tr>\n",
       "      <th>1999-05-01</th>\n",
       "      <td>23964</td>\n",
       "    </tr>\n",
       "    <tr>\n",
       "      <th>1999-06-01</th>\n",
       "      <td>23720</td>\n",
       "    </tr>\n",
       "    <tr>\n",
       "      <th>1999-07-01</th>\n",
       "      <td>25069</td>\n",
       "    </tr>\n",
       "    <tr>\n",
       "      <th>1999-08-01</th>\n",
       "      <td>24618</td>\n",
       "    </tr>\n",
       "    <tr>\n",
       "      <th>1999-09-01</th>\n",
       "      <td>24430</td>\n",
       "    </tr>\n",
       "    <tr>\n",
       "      <th>1999-10-01</th>\n",
       "      <td>25229</td>\n",
       "    </tr>\n",
       "    <tr>\n",
       "      <th>1999-11-01</th>\n",
       "      <td>22344</td>\n",
       "    </tr>\n",
       "    <tr>\n",
       "      <th>1999-12-01</th>\n",
       "      <td>22372</td>\n",
       "    </tr>\n",
       "    <tr>\n",
       "      <th>2000-01-01</th>\n",
       "      <td>25412</td>\n",
       "    </tr>\n",
       "  </tbody>\n",
       "</table>\n",
       "</div>"
      ],
      "text/plain": [
       "            Total\n",
       "Date             \n",
       "1996-01-01  20322\n",
       "1996-02-01  20613\n",
       "1996-03-01  22704\n",
       "1996-04-01  20276\n",
       "1996-05-01  20669\n",
       "1996-06-01  18074\n",
       "1996-07-01  18719\n",
       "1996-08-01  20217\n",
       "1996-09-01  19642\n",
       "1996-10-01  20842\n",
       "1996-11-01  18204\n",
       "1996-12-01  16898\n",
       "1997-01-01  20746\n",
       "1997-02-01  23058\n",
       "1997-03-01  24624\n",
       "1997-04-01  22154\n",
       "1997-05-01  22444\n",
       "1997-06-01  21471\n",
       "1997-07-01  21866\n",
       "1997-08-01  22548\n",
       "1997-09-01  21518\n",
       "1997-10-01  23408\n",
       "1997-11-01  19645\n",
       "1997-12-01  18278\n",
       "1998-01-01  23576\n",
       "1998-02-01  26650\n",
       "1998-03-01  26207\n",
       "1998-04-01  23195\n",
       "1998-05-01  22960\n",
       "1998-06-01  23002\n",
       "1998-07-01  22973\n",
       "1998-08-01  24089\n",
       "1998-09-01  22805\n",
       "1998-10-01  23241\n",
       "1998-11-01  21581\n",
       "1998-12-01  21119\n",
       "1999-01-01  23107\n",
       "1999-02-01  25780\n",
       "1999-03-01  28544\n",
       "1999-04-01  23488\n",
       "1999-05-01  23964\n",
       "1999-06-01  23720\n",
       "1999-07-01  25069\n",
       "1999-08-01  24618\n",
       "1999-09-01  24430\n",
       "1999-10-01  25229\n",
       "1999-11-01  22344\n",
       "1999-12-01  22372\n",
       "2000-01-01  25412"
      ]
     },
     "execution_count": 54,
     "metadata": {},
     "output_type": "execute_result"
    }
   ],
   "source": [
    "Start_date = datetime(1996,1,1)\n",
    "end_date = datetime(2000,1,1)\n",
    "lim_Catfish_Sales = Catfish_Sales[Start_date:end_date]\n",
    "lim_Catfish_Sales"
   ]
  },
  {
   "cell_type": "code",
   "execution_count": 55,
   "id": "e642d2dc",
   "metadata": {},
   "outputs": [
    {
     "data": {
      "image/png": "[encoded data removed]",
      "text/plain": [
       "<Figure size 720x288 with 1 Axes>"
      ]
     },
     "metadata": {},
     "output_type": "display_data"
    }
   ],
   "source": [
    "plt.figure(figsize=(10,4))\n",
    "plt.plot(lim_Catfish_Sales)\n",
    "plt.xlabel('Time Period')\n",
    "plt.ylabel('Unit sales')\n",
    "plt.title('Unit Sales')\n",
    "plt.show()"
   ]
  },
  {
   "cell_type": "markdown",
   "id": "b4847c28",
   "metadata": {},
   "source": [
    "# Removing The Trend:\n",
    "For this, we will be subtracting the data point of the sales of the prior month for each year."
   ]
  },
  {
   "cell_type": "code",
   "execution_count": 56,
   "id": "ad933714",
   "metadata": {},
   "outputs": [],
   "source": [
    "first_diff = lim_Catfish_Sales.diff()[1:]"
   ]
  },
  {
   "cell_type": "code",
   "execution_count": 57,
   "id": "80b1e097",
   "metadata": {},
   "outputs": [
    {
     "data": {
      "text/plain": [
       "Text(0, 0.5, 'Sales Trend')"
      ]
     },
     "execution_count": 57,
     "metadata": {},
     "output_type": "execute_result"
    },
    {
     "data": {
      "image/png": "[encoded data removed]",
      "text/plain": [
       "<Figure size 720x288 with 1 Axes>"
      ]
     },
     "metadata": {},
     "output_type": "display_data"
    }
   ],
   "source": [
    "plt.figure(figsize=(10,4))\n",
    "plt.plot(first_diff )\n",
    "plt.xlabel('Time-Period')\n",
    "plt.ylabel('Sales Trend')\n",
    "# Therefore, we have taken the first difference that is the intrgrated order of 1. Therefore, the first difference is making it statiniary."
   ]
  },
  {
   "cell_type": "markdown",
   "id": "7e54b230",
   "metadata": {},
   "source": [
    "# ACF"
   ]
  },
  {
   "cell_type": "code",
   "execution_count": 58,
   "id": "506b96de",
   "metadata": {},
   "outputs": [
    {
     "data": {
      "text/plain": [
       "Text(0, 0.5, 'Correlation')"
      ]
     },
     "execution_count": 58,
     "metadata": {},
     "output_type": "execute_result"
    },
    {
     "data": {
      "image/png": "[encoded data removed]",
      "text/plain": [
       "<Figure size 432x288 with 1 Axes>"
      ]
     },
     "metadata": {},
     "output_type": "display_data"
    }
   ],
   "source": [
    "acf_vals = acf(first_diff)\n",
    "num_lags = 17\n",
    "plt.bar(range(num_lags), acf_vals[:17])\n",
    "plt.xlabel('No. of lags')\n",
    "plt.ylabel('Correlation')\n",
    "\n",
    "# At 12, we observe a significant lag, therefore based on ACF we should start with seasonal MA process."
   ]
  },
  {
   "cell_type": "markdown",
   "id": "f60fc6cb",
   "metadata": {},
   "source": [
    "# PACF"
   ]
  },
  {
   "cell_type": "code",
   "execution_count": 59,
   "id": "1888ce19",
   "metadata": {},
   "outputs": [
    {
     "data": {
      "text/plain": [
       "Text(0, 0.5, 'Impact of Immediate Lags')"
      ]
     },
     "execution_count": 59,
     "metadata": {},
     "output_type": "execute_result"
    },
    {
     "data": {
      "image/png": "[encoded data removed]",
      "text/plain": [
       "<Figure size 432x288 with 1 Axes>"
      ]
     },
     "metadata": {},
     "output_type": "display_data"
    }
   ],
   "source": [
    "pacf_vals = pacf(first_diff)\n",
    "num_lags = 15\n",
    "plt.bar(range(num_lags),pacf_vals[:num_lags])\n",
    "plt.xlabel('No. of Lags')\n",
    "plt.ylabel('Impact of Immediate Lags')\n",
    "\n",
    "# Therefore, due to huge spike at 12, the model should move on with seasonal AR process."
   ]
  },
  {
   "cell_type": "code",
   "execution_count": 60,
   "id": "abee6d87",
   "metadata": {},
   "outputs": [],
   "source": [
    "# Getting the training and testing datasets:"
   ]
  },
  {
   "cell_type": "code",
   "execution_count": 61,
   "id": "e5f570f7",
   "metadata": {},
   "outputs": [],
   "source": [
    "# Timedelta adds the number of days to the current date.\n",
    "train_end = datetime(1999,7,1)\n",
    "test_end = datetime(2000,1,1)\n",
    "\n",
    "train_data = lim_Catfish_Sales[:train_end]\n",
    "test_data = lim_Catfish_Sales[train_end + timedelta(days=1):test_end]"
   ]
  },
  {
   "cell_type": "code",
   "execution_count": 62,
   "id": "a2c239e5",
   "metadata": {},
   "outputs": [],
   "source": [
    "# Fitting the SARIMA model"
   ]
  },
  {
   "cell_type": "code",
   "execution_count": 63,
   "id": "2a9c0dad",
   "metadata": {},
   "outputs": [],
   "source": [
    "my_order = (0,1,0) ### Regular AR and MA that are non seasnal thre the random walk model.\n",
    "my_seasonal_order = (1,0,1,12) ## Seasonal compnonent and since our data is monthly, threrefore the number of observations we will be having shall be 12."
   ]
  },
  {
   "cell_type": "code",
   "execution_count": 64,
   "id": "281e7e69",
   "metadata": {},
   "outputs": [],
   "source": [
    "# Defining the model:\n",
    "Model = SARIMAX(train_data,order= my_order, seasonal_order= my_seasonal_order)"
   ]
  },
  {
   "cell_type": "code",
   "execution_count": 65,
   "id": "b79bd304",
   "metadata": {},
   "outputs": [
    {
     "name": "stderr",
     "output_type": "stream",
     "text": [
      "C:\\Users\\kanis\\anaconda3\\lib\\site-packages\\statsmodels\\tsa\\statespace\\sarimax.py:997: UserWarning: Non-stationary starting seasonal autoregressive Using zeros as starting parameters.\n",
      "  warn('Non-stationary starting seasonal autoregressive'\n",
      "C:\\Users\\kanis\\anaconda3\\lib\\site-packages\\statsmodels\\tsa\\statespace\\sarimax.py:1009: UserWarning: Non-invertible starting seasonal moving average Using zeros as starting parameters.\n",
      "  warn('Non-invertible starting seasonal moving average'\n"
     ]
    },
    {
     "name": "stdout",
     "output_type": "stream",
     "text": [
      "Model Fitting Time: 0.32939910888671875\n"
     ]
    }
   ],
   "source": [
    "# Fitting the model:\n",
    "start = time()\n",
    "model_fit = Model.fit()\n",
    "end = time()\n",
    "print('Model Fitting Time:', end - start)"
   ]
  },
  {
   "cell_type": "code",
   "execution_count": 66,
   "id": "5912ddf4",
   "metadata": {},
   "outputs": [
    {
     "name": "stdout",
     "output_type": "stream",
     "text": [
      "                                      SARIMAX Results                                       \n",
      "============================================================================================\n",
      "Dep. Variable:                                Total   No. Observations:                   43\n",
      "Model:             SARIMAX(0, 1, 0)x(1, 0, [1], 12)   Log Likelihood                -365.635\n",
      "Date:                              Wed, 19 Jun 2024   AIC                            737.269\n",
      "Time:                                      13:33:32   BIC                            742.482\n",
      "Sample:                                  01-01-1996   HQIC                           739.180\n",
      "                                       - 07-01-1999                                         \n",
      "Covariance Type:                                opg                                         \n",
      "==============================================================================\n",
      "                 coef    std err          z      P>|z|      [0.025      0.975]\n",
      "------------------------------------------------------------------------------\n",
      "ar.S.L12       0.8250      0.120      6.848      0.000       0.589       1.061\n",
      "ma.S.L12      -0.5187      0.197     -2.632      0.008      -0.905      -0.132\n",
      "sigma2       1.78e+06    4.7e+05      3.791      0.000     8.6e+05     2.7e+06\n",
      "===================================================================================\n",
      "Ljung-Box (L1) (Q):                   2.82   Jarque-Bera (JB):                 1.13\n",
      "Prob(Q):                              0.09   Prob(JB):                         0.57\n",
      "Heteroskedasticity (H):               0.81   Skew:                            -0.30\n",
      "Prob(H) (two-sided):                  0.70   Kurtosis:                         2.46\n",
      "===================================================================================\n",
      "\n",
      "Warnings:\n",
      "[1] Covariance matrix calculated using the outer product of gradients (complex-step).\n"
     ]
    }
   ],
   "source": [
    "# Summary of Model Parameters:\n",
    "print(model_fit.summary())"
   ]
  },
  {
   "cell_type": "code",
   "execution_count": 71,
   "id": "f44c101e",
   "metadata": {},
   "outputs": [
    {
     "data": {
      "text/html": [
       "<div>\n",
       "<style scoped>\n",
       "    .dataframe tbody tr th:only-of-type {\n",
       "        vertical-align: middle;\n",
       "    }\n",
       "\n",
       "    .dataframe tbody tr th {\n",
       "        vertical-align: top;\n",
       "    }\n",
       "\n",
       "    .dataframe thead th {\n",
       "        text-align: right;\n",
       "    }\n",
       "</style>\n",
       "<table border=\"1\" class=\"dataframe\">\n",
       "  <thead>\n",
       "    <tr style=\"text-align: right;\">\n",
       "      <th></th>\n",
       "      <th>predicted_mean</th>\n",
       "    </tr>\n",
       "    <tr>\n",
       "      <th>Date</th>\n",
       "      <th></th>\n",
       "    </tr>\n",
       "  </thead>\n",
       "  <tbody>\n",
       "    <tr>\n",
       "      <th>1996-07-01</th>\n",
       "      <td>18074.000000</td>\n",
       "    </tr>\n",
       "    <tr>\n",
       "      <th>1996-08-01</th>\n",
       "      <td>18719.000000</td>\n",
       "    </tr>\n",
       "    <tr>\n",
       "      <th>1996-09-01</th>\n",
       "      <td>20217.000000</td>\n",
       "    </tr>\n",
       "    <tr>\n",
       "      <th>1996-10-01</th>\n",
       "      <td>19642.000000</td>\n",
       "    </tr>\n",
       "    <tr>\n",
       "      <th>1996-11-01</th>\n",
       "      <td>20842.000000</td>\n",
       "    </tr>\n",
       "    <tr>\n",
       "      <th>1996-12-01</th>\n",
       "      <td>18204.000000</td>\n",
       "    </tr>\n",
       "    <tr>\n",
       "      <th>1997-01-01</th>\n",
       "      <td>22908.491702</td>\n",
       "    </tr>\n",
       "    <tr>\n",
       "      <th>1997-02-01</th>\n",
       "      <td>20869.432008</td>\n",
       "    </tr>\n",
       "    <tr>\n",
       "      <th>1997-03-01</th>\n",
       "      <td>23944.928968</td>\n",
       "    </tr>\n",
       "    <tr>\n",
       "      <th>1997-04-01</th>\n",
       "      <td>23594.127435</td>\n",
       "    </tr>\n",
       "    <tr>\n",
       "      <th>1997-05-01</th>\n",
       "      <td>22320.696836</td>\n",
       "    </tr>\n",
       "    <tr>\n",
       "      <th>1997-06-01</th>\n",
       "      <td>21343.291884</td>\n",
       "    </tr>\n",
       "    <tr>\n",
       "      <th>1997-07-01</th>\n",
       "      <td>21744.586410</td>\n",
       "    </tr>\n",
       "    <tr>\n",
       "      <th>1997-08-01</th>\n",
       "      <td>22501.399136</td>\n",
       "    </tr>\n",
       "    <tr>\n",
       "      <th>1997-09-01</th>\n",
       "      <td>22304.105138</td>\n",
       "    </tr>\n",
       "    <tr>\n",
       "      <th>1997-10-01</th>\n",
       "      <td>22026.997973</td>\n",
       "    </tr>\n",
       "    <tr>\n",
       "      <th>1997-11-01</th>\n",
       "      <td>22289.052790</td>\n",
       "    </tr>\n",
       "    <tr>\n",
       "      <th>1997-12-01</th>\n",
       "      <td>19091.040540</td>\n",
       "    </tr>\n",
       "    <tr>\n",
       "      <th>1998-01-01</th>\n",
       "      <td>22443.914575</td>\n",
       "    </tr>\n",
       "    <tr>\n",
       "      <th>1998-02-01</th>\n",
       "      <td>24413.677218</td>\n",
       "    </tr>\n",
       "    <tr>\n",
       "      <th>1998-03-01</th>\n",
       "      <td>27610.058320</td>\n",
       "    </tr>\n",
       "    <tr>\n",
       "      <th>1998-04-01</th>\n",
       "      <td>24873.126216</td>\n",
       "    </tr>\n",
       "    <tr>\n",
       "      <th>1998-05-01</th>\n",
       "      <td>23373.986510</td>\n",
       "    </tr>\n",
       "    <tr>\n",
       "      <th>1998-06-01</th>\n",
       "      <td>22094.824173</td>\n",
       "    </tr>\n",
       "    <tr>\n",
       "      <th>1998-07-01</th>\n",
       "      <td>23268.537986</td>\n",
       "    </tr>\n",
       "    <tr>\n",
       "      <th>1998-08-01</th>\n",
       "      <td>23512.889665</td>\n",
       "    </tr>\n",
       "    <tr>\n",
       "      <th>1998-09-01</th>\n",
       "      <td>23623.475102</td>\n",
       "    </tr>\n",
       "    <tr>\n",
       "      <th>1998-10-01</th>\n",
       "      <td>23689.258951</td>\n",
       "    </tr>\n",
       "    <tr>\n",
       "      <th>1998-11-01</th>\n",
       "      <td>21428.852263</td>\n",
       "    </tr>\n",
       "    <tr>\n",
       "      <th>1998-12-01</th>\n",
       "      <td>20850.607172</td>\n",
       "    </tr>\n",
       "    <tr>\n",
       "      <th>1999-01-01</th>\n",
       "      <td>24920.619263</td>\n",
       "    </tr>\n",
       "    <tr>\n",
       "      <th>1999-02-01</th>\n",
       "      <td>24500.903327</td>\n",
       "    </tr>\n",
       "    <tr>\n",
       "      <th>1999-03-01</th>\n",
       "      <td>26131.142604</td>\n",
       "    </tr>\n",
       "    <tr>\n",
       "      <th>1999-04-01</th>\n",
       "      <td>26916.142471</td>\n",
       "    </tr>\n",
       "    <tr>\n",
       "      <th>1999-05-01</th>\n",
       "      <td>23505.567431</td>\n",
       "    </tr>\n",
       "    <tr>\n",
       "      <th>1999-06-01</th>\n",
       "      <td>23535.299734</td>\n",
       "    </tr>\n",
       "    <tr>\n",
       "      <th>1999-07-01</th>\n",
       "      <td>23847.023939</td>\n",
       "    </tr>\n",
       "  </tbody>\n",
       "</table>\n",
       "</div>"
      ],
      "text/plain": [
       "            predicted_mean\n",
       "Date                      \n",
       "1996-07-01    18074.000000\n",
       "1996-08-01    18719.000000\n",
       "1996-09-01    20217.000000\n",
       "1996-10-01    19642.000000\n",
       "1996-11-01    20842.000000\n",
       "1996-12-01    18204.000000\n",
       "1997-01-01    22908.491702\n",
       "1997-02-01    20869.432008\n",
       "1997-03-01    23944.928968\n",
       "1997-04-01    23594.127435\n",
       "1997-05-01    22320.696836\n",
       "1997-06-01    21343.291884\n",
       "1997-07-01    21744.586410\n",
       "1997-08-01    22501.399136\n",
       "1997-09-01    22304.105138\n",
       "1997-10-01    22026.997973\n",
       "1997-11-01    22289.052790\n",
       "1997-12-01    19091.040540\n",
       "1998-01-01    22443.914575\n",
       "1998-02-01    24413.677218\n",
       "1998-03-01    27610.058320\n",
       "1998-04-01    24873.126216\n",
       "1998-05-01    23373.986510\n",
       "1998-06-01    22094.824173\n",
       "1998-07-01    23268.537986\n",
       "1998-08-01    23512.889665\n",
       "1998-09-01    23623.475102\n",
       "1998-10-01    23689.258951\n",
       "1998-11-01    21428.852263\n",
       "1998-12-01    20850.607172\n",
       "1999-01-01    24920.619263\n",
       "1999-02-01    24500.903327\n",
       "1999-03-01    26131.142604\n",
       "1999-04-01    26916.142471\n",
       "1999-05-01    23505.567431\n",
       "1999-06-01    23535.299734\n",
       "1999-07-01    23847.023939"
      ]
     },
     "execution_count": 71,
     "metadata": {},
     "output_type": "execute_result"
    }
   ],
   "source": [
    "# Getting the predictions:\n",
    "predictions = model_fit.predict(len(test_data))\n",
    "#predictions = pd.Series(predictions, index = test_data.index)\n",
    "#residuals = test_data - predictions\n",
    "predictions = pd.DataFrame(predictions)\n",
    "predictions"
   ]
  },
  {
   "cell_type": "code",
   "execution_count": 74,
   "id": "a6104e45",
   "metadata": {},
   "outputs": [
    {
     "data": {
      "image/png": "[encoded data removed]",
      "text/plain": [
       "<Figure size 792x288 with 1 Axes>"
      ]
     },
     "metadata": {},
     "output_type": "display_data"
    }
   ],
   "source": [
    "# Actual sales V/S predictions:\n",
    "plt.figure(figsize=(11,4))\n",
    "plt.plot(lim_Catfish_Sales)\n",
    "plt.plot(predictions)\n",
    "plt.title('Actual sales V/S predictions')\n",
    "plt.xlabel('Time-Period')\n",
    "plt.ylabel('Units Sold')\n",
    "for year in range(Start_date.year,end_date.year):\n",
    "    plt.axvline(pd.to_datetime(str(year)+ '-01-01'), color = 'k', linestyle='--',alpha=0.3)\n",
    "    "
   ]
  },
  {
   "cell_type": "markdown",
   "id": "38ae686d",
   "metadata": {},
   "source": [
    "# Insight:"
   ]
  },
  {
   "cell_type": "markdown",
   "id": "84eab0df",
   "metadata": {},
   "source": [
    "Therefore, the sales of the catfish is expected to be increased upto 23847 units.  "
   ]
  }
 ],
 "metadata": {
  "kernelspec": {
   "display_name": "Python 3 (ipykernel)",
   "language": "python",
   "name": "python3"
  },
  "language_info": {
   "codemirror_mode": {
    "name": "ipython",
    "version": 3
   },
   "file_extension": ".py",
   "mimetype": "text/x-python",
   "name": "python",
   "nbconvert_exporter": "python",
   "pygments_lexer": "ipython3",
   "version": "3.9.12"
  }
 },
 "nbformat": 4,
 "nbformat_minor": 5
}
